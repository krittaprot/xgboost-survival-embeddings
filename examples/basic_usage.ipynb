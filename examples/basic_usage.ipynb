{
 "cells": [
  {
   "cell_type": "markdown",
   "metadata": {},
   "source": [
    "# Basic Usage:\n",
    "In this notebook you will find:\n",
    "- How to get a survival curve and neighbors prediction using xgbse\n",
    "- How to validate your xgbse model using sklearn"
   ]
  },
  {
   "cell_type": "markdown",
   "metadata": {},
   "source": [
    "## Metrabic\n",
    "\n",
    "We will be using the Molecular Taxonomy of Breast Cancer International Consortium (METABRIC) dataset from [pycox](https://github.com/havakv/pycox#datasets) as base for this example."
   ]
  },
  {
   "cell_type": "code",
   "execution_count": 1,
   "metadata": {},
   "outputs": [
    {
     "name": "stderr",
     "output_type": "stream",
     "text": [
      "/home/gabrielgimenez/.pyenv/versions/3.10.6/envs/xgbse/lib/python3.10/site-packages/tqdm/auto.py:22: TqdmWarning: IProgress not found. Please update jupyter and ipywidgets. See https://ipywidgets.readthedocs.io/en/stable/user_install.html\n",
      "  from .autonotebook import tqdm as notebook_tqdm\n"
     ]
    },
    {
     "data": {
      "text/html": [
       "<div>\n",
       "<style scoped>\n",
       "    .dataframe tbody tr th:only-of-type {\n",
       "        vertical-align: middle;\n",
       "    }\n",
       "\n",
       "    .dataframe tbody tr th {\n",
       "        vertical-align: top;\n",
       "    }\n",
       "\n",
       "    .dataframe thead th {\n",
       "        text-align: right;\n",
       "    }\n",
       "</style>\n",
       "<table border=\"1\" class=\"dataframe\">\n",
       "  <thead>\n",
       "    <tr style=\"text-align: right;\">\n",
       "      <th></th>\n",
       "      <th>x0</th>\n",
       "      <th>x1</th>\n",
       "      <th>x2</th>\n",
       "      <th>x3</th>\n",
       "      <th>x4</th>\n",
       "      <th>x5</th>\n",
       "      <th>x6</th>\n",
       "      <th>x7</th>\n",
       "      <th>x8</th>\n",
       "      <th>duration</th>\n",
       "      <th>event</th>\n",
       "    </tr>\n",
       "  </thead>\n",
       "  <tbody>\n",
       "    <tr>\n",
       "      <th>0</th>\n",
       "      <td>5.603834</td>\n",
       "      <td>7.811392</td>\n",
       "      <td>10.797988</td>\n",
       "      <td>5.967607</td>\n",
       "      <td>1.0</td>\n",
       "      <td>1.0</td>\n",
       "      <td>0.0</td>\n",
       "      <td>1.0</td>\n",
       "      <td>56.840000</td>\n",
       "      <td>99.333336</td>\n",
       "      <td>0</td>\n",
       "    </tr>\n",
       "    <tr>\n",
       "      <th>1</th>\n",
       "      <td>5.284882</td>\n",
       "      <td>9.581043</td>\n",
       "      <td>10.204620</td>\n",
       "      <td>5.664970</td>\n",
       "      <td>1.0</td>\n",
       "      <td>0.0</td>\n",
       "      <td>0.0</td>\n",
       "      <td>1.0</td>\n",
       "      <td>85.940002</td>\n",
       "      <td>95.733330</td>\n",
       "      <td>1</td>\n",
       "    </tr>\n",
       "    <tr>\n",
       "      <th>2</th>\n",
       "      <td>5.920251</td>\n",
       "      <td>6.776564</td>\n",
       "      <td>12.431715</td>\n",
       "      <td>5.873857</td>\n",
       "      <td>0.0</td>\n",
       "      <td>1.0</td>\n",
       "      <td>0.0</td>\n",
       "      <td>1.0</td>\n",
       "      <td>48.439999</td>\n",
       "      <td>140.233337</td>\n",
       "      <td>0</td>\n",
       "    </tr>\n",
       "    <tr>\n",
       "      <th>3</th>\n",
       "      <td>6.654017</td>\n",
       "      <td>5.341846</td>\n",
       "      <td>8.646379</td>\n",
       "      <td>5.655888</td>\n",
       "      <td>0.0</td>\n",
       "      <td>0.0</td>\n",
       "      <td>0.0</td>\n",
       "      <td>0.0</td>\n",
       "      <td>66.910004</td>\n",
       "      <td>239.300003</td>\n",
       "      <td>0</td>\n",
       "    </tr>\n",
       "    <tr>\n",
       "      <th>4</th>\n",
       "      <td>5.456747</td>\n",
       "      <td>5.339741</td>\n",
       "      <td>10.555724</td>\n",
       "      <td>6.008429</td>\n",
       "      <td>1.0</td>\n",
       "      <td>0.0</td>\n",
       "      <td>0.0</td>\n",
       "      <td>1.0</td>\n",
       "      <td>67.849998</td>\n",
       "      <td>56.933334</td>\n",
       "      <td>1</td>\n",
       "    </tr>\n",
       "  </tbody>\n",
       "</table>\n",
       "</div>"
      ],
      "text/plain": [
       "         x0        x1         x2        x3   x4   x5   x6   x7         x8  \\\n",
       "0  5.603834  7.811392  10.797988  5.967607  1.0  1.0  0.0  1.0  56.840000   \n",
       "1  5.284882  9.581043  10.204620  5.664970  1.0  0.0  0.0  1.0  85.940002   \n",
       "2  5.920251  6.776564  12.431715  5.873857  0.0  1.0  0.0  1.0  48.439999   \n",
       "3  6.654017  5.341846   8.646379  5.655888  0.0  0.0  0.0  0.0  66.910004   \n",
       "4  5.456747  5.339741  10.555724  6.008429  1.0  0.0  0.0  1.0  67.849998   \n",
       "\n",
       "     duration  event  \n",
       "0   99.333336      0  \n",
       "1   95.733330      1  \n",
       "2  140.233337      0  \n",
       "3  239.300003      0  \n",
       "4   56.933334      1  "
      ]
     },
     "execution_count": 1,
     "metadata": {},
     "output_type": "execute_result"
    }
   ],
   "source": [
    "from pycox.datasets import metabric\n",
    "import numpy as np\n",
    "\n",
    "# getting data\n",
    "df = metabric.read_df()\n",
    "\n",
    "df.head()"
   ]
  },
  {
   "cell_type": "markdown",
   "metadata": {},
   "source": [
    "## Split and Time Bins\n",
    "\n",
    "Split the data in train and test, using sklearn API. We also setup the TIME_BINS array, which will be used to fit the survival curve"
   ]
  },
  {
   "cell_type": "code",
   "execution_count": 2,
   "metadata": {},
   "outputs": [
    {
     "data": {
      "text/plain": [
       "array([ 15,  30,  45,  60,  75,  90, 105, 120, 135, 150, 165, 180, 195,\n",
       "       210, 225, 240, 255, 270, 285, 300])"
      ]
     },
     "execution_count": 2,
     "metadata": {},
     "output_type": "execute_result"
    }
   ],
   "source": [
    "from xgbse.converters import convert_to_structured\n",
    "from sklearn.model_selection import train_test_split\n",
    "\n",
    "# splitting to X, T, E format\n",
    "X = df.drop([\"duration\", \"event\"], axis=1)\n",
    "T = df[\"duration\"]\n",
    "E = df[\"event\"]\n",
    "y = convert_to_structured(T, E)\n",
    "\n",
    "# splitting between train, and validation\n",
    "X_train, X_test, y_train, y_test = train_test_split(\n",
    "    X, y, test_size=1 / 3, random_state=0\n",
    ")\n",
    "TIME_BINS = np.arange(15, 315, 15)\n",
    "TIME_BINS"
   ]
  },
  {
   "cell_type": "markdown",
   "metadata": {},
   "source": [
    "## Fit and Predict\n",
    "\n",
    "We will be using the DebiasedBCE estimator to fit the model and predict a survival curve for each point in our test data"
   ]
  },
  {
   "cell_type": "code",
   "execution_count": 10,
   "metadata": {},
   "outputs": [
    {
     "name": "stdout",
     "output_type": "stream",
     "text": [
      "(635, 20)\n"
     ]
    },
    {
     "data": {
      "text/html": [
       "<div>\n",
       "<style scoped>\n",
       "    .dataframe tbody tr th:only-of-type {\n",
       "        vertical-align: middle;\n",
       "    }\n",
       "\n",
       "    .dataframe tbody tr th {\n",
       "        vertical-align: top;\n",
       "    }\n",
       "\n",
       "    .dataframe thead th {\n",
       "        text-align: right;\n",
       "    }\n",
       "</style>\n",
       "<table border=\"1\" class=\"dataframe\">\n",
       "  <thead>\n",
       "    <tr style=\"text-align: right;\">\n",
       "      <th></th>\n",
       "      <th>15</th>\n",
       "      <th>30</th>\n",
       "      <th>45</th>\n",
       "      <th>60</th>\n",
       "      <th>75</th>\n",
       "      <th>90</th>\n",
       "      <th>105</th>\n",
       "      <th>120</th>\n",
       "      <th>135</th>\n",
       "      <th>150</th>\n",
       "      <th>165</th>\n",
       "      <th>180</th>\n",
       "      <th>195</th>\n",
       "      <th>210</th>\n",
       "      <th>225</th>\n",
       "      <th>240</th>\n",
       "      <th>255</th>\n",
       "      <th>270</th>\n",
       "      <th>285</th>\n",
       "      <th>300</th>\n",
       "    </tr>\n",
       "  </thead>\n",
       "  <tbody>\n",
       "    <tr>\n",
       "      <th>0</th>\n",
       "      <td>0.999692</td>\n",
       "      <td>0.997096</td>\n",
       "      <td>0.997022</td>\n",
       "      <td>0.996003</td>\n",
       "      <td>0.993169</td>\n",
       "      <td>0.991243</td>\n",
       "      <td>0.947391</td>\n",
       "      <td>0.946971</td>\n",
       "      <td>0.946565</td>\n",
       "      <td>0.946192</td>\n",
       "      <td>0.944172</td>\n",
       "      <td>0.860472</td>\n",
       "      <td>0.860375</td>\n",
       "      <td>0.849557</td>\n",
       "      <td>0.849181</td>\n",
       "      <td>0.736138</td>\n",
       "      <td>0.729915</td>\n",
       "      <td>0.728350</td>\n",
       "      <td>0.700588</td>\n",
       "      <td>0.696611</td>\n",
       "    </tr>\n",
       "    <tr>\n",
       "      <th>1</th>\n",
       "      <td>0.986802</td>\n",
       "      <td>0.964557</td>\n",
       "      <td>0.915257</td>\n",
       "      <td>0.358281</td>\n",
       "      <td>0.340216</td>\n",
       "      <td>0.268471</td>\n",
       "      <td>0.259390</td>\n",
       "      <td>0.044221</td>\n",
       "      <td>0.036319</td>\n",
       "      <td>0.036278</td>\n",
       "      <td>0.019557</td>\n",
       "      <td>0.008164</td>\n",
       "      <td>0.007623</td>\n",
       "      <td>0.007237</td>\n",
       "      <td>0.005950</td>\n",
       "      <td>0.004329</td>\n",
       "      <td>0.004324</td>\n",
       "      <td>0.000547</td>\n",
       "      <td>0.000524</td>\n",
       "      <td>0.000472</td>\n",
       "    </tr>\n",
       "    <tr>\n",
       "      <th>2</th>\n",
       "      <td>0.999393</td>\n",
       "      <td>0.999264</td>\n",
       "      <td>0.984659</td>\n",
       "      <td>0.983669</td>\n",
       "      <td>0.980930</td>\n",
       "      <td>0.978146</td>\n",
       "      <td>0.977706</td>\n",
       "      <td>0.919124</td>\n",
       "      <td>0.363729</td>\n",
       "      <td>0.342423</td>\n",
       "      <td>0.341355</td>\n",
       "      <td>0.339702</td>\n",
       "      <td>0.339423</td>\n",
       "      <td>0.335448</td>\n",
       "      <td>0.334916</td>\n",
       "      <td>0.290999</td>\n",
       "      <td>0.287196</td>\n",
       "      <td>0.273251</td>\n",
       "      <td>0.271912</td>\n",
       "      <td>0.217175</td>\n",
       "    </tr>\n",
       "    <tr>\n",
       "      <th>3</th>\n",
       "      <td>0.999979</td>\n",
       "      <td>0.999651</td>\n",
       "      <td>0.985399</td>\n",
       "      <td>0.981342</td>\n",
       "      <td>0.981205</td>\n",
       "      <td>0.980682</td>\n",
       "      <td>0.951542</td>\n",
       "      <td>0.950748</td>\n",
       "      <td>0.949750</td>\n",
       "      <td>0.940576</td>\n",
       "      <td>0.916275</td>\n",
       "      <td>0.868807</td>\n",
       "      <td>0.862352</td>\n",
       "      <td>0.860060</td>\n",
       "      <td>0.780547</td>\n",
       "      <td>0.722371</td>\n",
       "      <td>0.366825</td>\n",
       "      <td>0.365152</td>\n",
       "      <td>0.356111</td>\n",
       "      <td>0.341842</td>\n",
       "    </tr>\n",
       "    <tr>\n",
       "      <th>4</th>\n",
       "      <td>0.999530</td>\n",
       "      <td>0.999257</td>\n",
       "      <td>0.998912</td>\n",
       "      <td>0.998510</td>\n",
       "      <td>0.994603</td>\n",
       "      <td>0.970378</td>\n",
       "      <td>0.965482</td>\n",
       "      <td>0.965291</td>\n",
       "      <td>0.964305</td>\n",
       "      <td>0.957605</td>\n",
       "      <td>0.937263</td>\n",
       "      <td>0.936601</td>\n",
       "      <td>0.935565</td>\n",
       "      <td>0.930383</td>\n",
       "      <td>0.738160</td>\n",
       "      <td>0.732285</td>\n",
       "      <td>0.712716</td>\n",
       "      <td>0.636714</td>\n",
       "      <td>0.582362</td>\n",
       "      <td>0.331674</td>\n",
       "    </tr>\n",
       "  </tbody>\n",
       "</table>\n",
       "</div>"
      ],
      "text/plain": [
       "        15        30        45        60        75        90        105  \\\n",
       "0  0.999692  0.997096  0.997022  0.996003  0.993169  0.991243  0.947391   \n",
       "1  0.986802  0.964557  0.915257  0.358281  0.340216  0.268471  0.259390   \n",
       "2  0.999393  0.999264  0.984659  0.983669  0.980930  0.978146  0.977706   \n",
       "3  0.999979  0.999651  0.985399  0.981342  0.981205  0.980682  0.951542   \n",
       "4  0.999530  0.999257  0.998912  0.998510  0.994603  0.970378  0.965482   \n",
       "\n",
       "        120       135       150       165       180       195       210  \\\n",
       "0  0.946971  0.946565  0.946192  0.944172  0.860472  0.860375  0.849557   \n",
       "1  0.044221  0.036319  0.036278  0.019557  0.008164  0.007623  0.007237   \n",
       "2  0.919124  0.363729  0.342423  0.341355  0.339702  0.339423  0.335448   \n",
       "3  0.950748  0.949750  0.940576  0.916275  0.868807  0.862352  0.860060   \n",
       "4  0.965291  0.964305  0.957605  0.937263  0.936601  0.935565  0.930383   \n",
       "\n",
       "        225       240       255       270       285       300  \n",
       "0  0.849181  0.736138  0.729915  0.728350  0.700588  0.696611  \n",
       "1  0.005950  0.004329  0.004324  0.000547  0.000524  0.000472  \n",
       "2  0.334916  0.290999  0.287196  0.273251  0.271912  0.217175  \n",
       "3  0.780547  0.722371  0.366825  0.365152  0.356111  0.341842  \n",
       "4  0.738160  0.732285  0.712716  0.636714  0.582362  0.331674  "
      ]
     },
     "execution_count": 10,
     "metadata": {},
     "output_type": "execute_result"
    }
   ],
   "source": [
    "from xgbse import XGBSEDebiasedBCE\n",
    "\n",
    "# fitting xgbse model\n",
    "xgbse_model = XGBSEDebiasedBCE(lr_params={\"max_iter\": 1500})\n",
    "xgbse_model.fit(X_train, y_train, time_bins=TIME_BINS, num_boost_round=1000)\n",
    "\n",
    "# predicting\n",
    "y_pred = xgbse_model.predict(X_test)\n",
    "\n",
    "print(y_pred.shape)\n",
    "y_pred.head()"
   ]
  },
  {
   "cell_type": "markdown",
   "metadata": {},
   "source": [
    "mean predicted survival curve for test data"
   ]
  },
  {
   "cell_type": "code",
   "execution_count": 11,
   "metadata": {},
   "outputs": [
    {
     "data": {
      "image/png": "[encoded data removed]",
      "text/plain": [
       "<Figure size 640x480 with 1 Axes>"
      ]
     },
     "metadata": {},
     "output_type": "display_data"
    }
   ],
   "source": [
    "y_pred.mean().plot.line();"
   ]
  },
  {
   "cell_type": "markdown",
   "metadata": {},
   "source": [
    "## Neighbors\n",
    "\n",
    "We can also use our model for querying comparables based on survivability."
   ]
  },
  {
   "cell_type": "code",
   "execution_count": 12,
   "metadata": {},
   "outputs": [
    {
     "name": "stdout",
     "output_type": "stream",
     "text": [
      "(635, 5)\n"
     ]
    },
    {
     "data": {
      "text/html": [
       "<div>\n",
       "<style scoped>\n",
       "    .dataframe tbody tr th:only-of-type {\n",
       "        vertical-align: middle;\n",
       "    }\n",
       "\n",
       "    .dataframe tbody tr th {\n",
       "        vertical-align: top;\n",
       "    }\n",
       "\n",
       "    .dataframe thead th {\n",
       "        text-align: right;\n",
       "    }\n",
       "</style>\n",
       "<table border=\"1\" class=\"dataframe\">\n",
       "  <thead>\n",
       "    <tr style=\"text-align: right;\">\n",
       "      <th></th>\n",
       "      <th>neighbor_1</th>\n",
       "      <th>neighbor_2</th>\n",
       "      <th>neighbor_3</th>\n",
       "      <th>neighbor_4</th>\n",
       "      <th>neighbor_5</th>\n",
       "    </tr>\n",
       "  </thead>\n",
       "  <tbody>\n",
       "    <tr>\n",
       "      <th>829</th>\n",
       "      <td>1589</td>\n",
       "      <td>339</td>\n",
       "      <td>738</td>\n",
       "      <td>1710</td>\n",
       "      <td>1570</td>\n",
       "    </tr>\n",
       "    <tr>\n",
       "      <th>670</th>\n",
       "      <td>1082</td>\n",
       "      <td>605</td>\n",
       "      <td>1022</td>\n",
       "      <td>864</td>\n",
       "      <td>891</td>\n",
       "    </tr>\n",
       "    <tr>\n",
       "      <th>1064</th>\n",
       "      <td>1207</td>\n",
       "      <td>1230</td>\n",
       "      <td>416</td>\n",
       "      <td>1252</td>\n",
       "      <td>1750</td>\n",
       "    </tr>\n",
       "    <tr>\n",
       "      <th>85</th>\n",
       "      <td>8</td>\n",
       "      <td>1080</td>\n",
       "      <td>703</td>\n",
       "      <td>1522</td>\n",
       "      <td>234</td>\n",
       "    </tr>\n",
       "    <tr>\n",
       "      <th>1814</th>\n",
       "      <td>693</td>\n",
       "      <td>1743</td>\n",
       "      <td>819</td>\n",
       "      <td>859</td>\n",
       "      <td>941</td>\n",
       "    </tr>\n",
       "  </tbody>\n",
       "</table>\n",
       "</div>"
      ],
      "text/plain": [
       "      neighbor_1  neighbor_2  neighbor_3  neighbor_4  neighbor_5\n",
       "829         1589         339         738        1710        1570\n",
       "670         1082         605        1022         864         891\n",
       "1064        1207        1230         416        1252        1750\n",
       "85             8        1080         703        1522         234\n",
       "1814         693        1743         819         859         941"
      ]
     },
     "execution_count": 12,
     "metadata": {},
     "output_type": "execute_result"
    }
   ],
   "source": [
    "neighbors = xgbse_model.get_neighbors(\n",
    "    query_data=X_test, index_data=X_train, n_neighbors=5\n",
    ")\n",
    "\n",
    "print(neighbors.shape)\n",
    "neighbors.head(5)"
   ]
  },
  {
   "cell_type": "markdown",
   "metadata": {},
   "source": [
    "<b>example</b>: selecting a data point from query data (X_test) and checking its features"
   ]
  },
  {
   "cell_type": "code",
   "execution_count": 13,
   "metadata": {},
   "outputs": [
    {
     "data": {
      "text/html": [
       "<div>\n",
       "<style scoped>\n",
       "    .dataframe tbody tr th:only-of-type {\n",
       "        vertical-align: middle;\n",
       "    }\n",
       "\n",
       "    .dataframe tbody tr th {\n",
       "        vertical-align: top;\n",
       "    }\n",
       "\n",
       "    .dataframe thead th {\n",
       "        text-align: right;\n",
       "    }\n",
       "</style>\n",
       "<table border=\"1\" class=\"dataframe\">\n",
       "  <thead>\n",
       "    <tr style=\"text-align: right;\">\n",
       "      <th></th>\n",
       "      <th>x0</th>\n",
       "      <th>x1</th>\n",
       "      <th>x2</th>\n",
       "      <th>x3</th>\n",
       "      <th>x4</th>\n",
       "      <th>x5</th>\n",
       "      <th>x6</th>\n",
       "      <th>x7</th>\n",
       "      <th>x8</th>\n",
       "    </tr>\n",
       "  </thead>\n",
       "  <tbody>\n",
       "    <tr>\n",
       "      <th>399</th>\n",
       "      <td>5.572504</td>\n",
       "      <td>7.367552</td>\n",
       "      <td>11.023443</td>\n",
       "      <td>5.406307</td>\n",
       "      <td>1.0</td>\n",
       "      <td>0.0</td>\n",
       "      <td>0.0</td>\n",
       "      <td>1.0</td>\n",
       "      <td>67.620003</td>\n",
       "    </tr>\n",
       "  </tbody>\n",
       "</table>\n",
       "</div>"
      ],
      "text/plain": [
       "           x0        x1         x2        x3   x4   x5   x6   x7         x8\n",
       "399  5.572504  7.367552  11.023443  5.406307  1.0  0.0  0.0  1.0  67.620003"
      ]
     },
     "execution_count": 13,
     "metadata": {},
     "output_type": "execute_result"
    }
   ],
   "source": [
    "desired = neighbors.iloc[10]\n",
    "\n",
    "X_test.loc[X_test.index == desired.name]"
   ]
  },
  {
   "cell_type": "markdown",
   "metadata": {},
   "source": [
    "... and finding its comparables from index data (X_train)"
   ]
  },
  {
   "cell_type": "code",
   "execution_count": 14,
   "metadata": {},
   "outputs": [
    {
     "data": {
      "text/html": [
       "<div>\n",
       "<style scoped>\n",
       "    .dataframe tbody tr th:only-of-type {\n",
       "        vertical-align: middle;\n",
       "    }\n",
       "\n",
       "    .dataframe tbody tr th {\n",
       "        vertical-align: top;\n",
       "    }\n",
       "\n",
       "    .dataframe thead th {\n",
       "        text-align: right;\n",
       "    }\n",
       "</style>\n",
       "<table border=\"1\" class=\"dataframe\">\n",
       "  <thead>\n",
       "    <tr style=\"text-align: right;\">\n",
       "      <th></th>\n",
       "      <th>x0</th>\n",
       "      <th>x1</th>\n",
       "      <th>x2</th>\n",
       "      <th>x3</th>\n",
       "      <th>x4</th>\n",
       "      <th>x5</th>\n",
       "      <th>x6</th>\n",
       "      <th>x7</th>\n",
       "      <th>x8</th>\n",
       "    </tr>\n",
       "  </thead>\n",
       "  <tbody>\n",
       "    <tr>\n",
       "      <th>1522</th>\n",
       "      <td>5.787038</td>\n",
       "      <td>6.713382</td>\n",
       "      <td>11.090166</td>\n",
       "      <td>5.551950</td>\n",
       "      <td>0.0</td>\n",
       "      <td>0.0</td>\n",
       "      <td>0.0</td>\n",
       "      <td>1.0</td>\n",
       "      <td>68.250000</td>\n",
       "    </tr>\n",
       "    <tr>\n",
       "      <th>703</th>\n",
       "      <td>5.823333</td>\n",
       "      <td>7.185800</td>\n",
       "      <td>10.898102</td>\n",
       "      <td>5.538811</td>\n",
       "      <td>0.0</td>\n",
       "      <td>0.0</td>\n",
       "      <td>0.0</td>\n",
       "      <td>1.0</td>\n",
       "      <td>66.540001</td>\n",
       "    </tr>\n",
       "    <tr>\n",
       "      <th>968</th>\n",
       "      <td>5.541239</td>\n",
       "      <td>7.058089</td>\n",
       "      <td>10.463409</td>\n",
       "      <td>5.396433</td>\n",
       "      <td>1.0</td>\n",
       "      <td>0.0</td>\n",
       "      <td>0.0</td>\n",
       "      <td>1.0</td>\n",
       "      <td>71.070000</td>\n",
       "    </tr>\n",
       "    <tr>\n",
       "      <th>1640</th>\n",
       "      <td>5.812605</td>\n",
       "      <td>7.646811</td>\n",
       "      <td>10.952687</td>\n",
       "      <td>5.516386</td>\n",
       "      <td>1.0</td>\n",
       "      <td>1.0</td>\n",
       "      <td>0.0</td>\n",
       "      <td>1.0</td>\n",
       "      <td>68.559998</td>\n",
       "    </tr>\n",
       "    <tr>\n",
       "      <th>234</th>\n",
       "      <td>5.784350</td>\n",
       "      <td>6.797296</td>\n",
       "      <td>11.025448</td>\n",
       "      <td>5.335426</td>\n",
       "      <td>1.0</td>\n",
       "      <td>1.0</td>\n",
       "      <td>0.0</td>\n",
       "      <td>1.0</td>\n",
       "      <td>68.489998</td>\n",
       "    </tr>\n",
       "  </tbody>\n",
       "</table>\n",
       "</div>"
      ],
      "text/plain": [
       "            x0        x1         x2        x3   x4   x5   x6   x7         x8\n",
       "1522  5.787038  6.713382  11.090166  5.551950  0.0  0.0  0.0  1.0  68.250000\n",
       "703   5.823333  7.185800  10.898102  5.538811  0.0  0.0  0.0  1.0  66.540001\n",
       "968   5.541239  7.058089  10.463409  5.396433  1.0  0.0  0.0  1.0  71.070000\n",
       "1640  5.812605  7.646811  10.952687  5.516386  1.0  1.0  0.0  1.0  68.559998\n",
       "234   5.784350  6.797296  11.025448  5.335426  1.0  1.0  0.0  1.0  68.489998"
      ]
     },
     "execution_count": 14,
     "metadata": {},
     "output_type": "execute_result"
    }
   ],
   "source": [
    "X_train.loc[X_train.index.isin(desired.tolist())]"
   ]
  },
  {
   "cell_type": "markdown",
   "metadata": {},
   "source": [
    "## Score metrics\n",
    "\n",
    "XGBSE implements concordance index and integrated brier score, both can be used to evaluate model performance"
   ]
  },
  {
   "cell_type": "code",
   "execution_count": 15,
   "metadata": {},
   "outputs": [
    {
     "name": "stdout",
     "output_type": "stream",
     "text": [
      "C-index: 0.6336272856034563\n",
      "Avg. Brier Score: 0.263349836341085\n"
     ]
    }
   ],
   "source": [
    "# importing metrics\n",
    "from xgbse.metrics import concordance_index, approx_brier_score\n",
    "\n",
    "# running metrics\n",
    "print(f\"C-index: {concordance_index(y_test, y_pred)}\")\n",
    "print(f\"Avg. Brier Score: {approx_brier_score(y_test, y_pred)}\")"
   ]
  },
  {
   "cell_type": "markdown",
   "metadata": {},
   "source": [
    "## Cross Validation\n",
    "\n",
    "We can also use sklearn's cross_val_score and make_scorer to cross validate our model"
   ]
  },
  {
   "cell_type": "code",
   "execution_count": 16,
   "metadata": {},
   "outputs": [
    {
     "name": "stderr",
     "output_type": "stream",
     "text": [
      "/home/gabrielgimenez/work/xgboost-survival-embeddings/xgbse/_debiased_bce.py:212: RuntimeWarning: Warning: Only one class found in a time bucket\n",
      "  warnings.warn(\n"
     ]
    },
    {
     "data": {
      "text/plain": [
       "array([0.17746338, 0.16216138, 0.1405086 , 0.17718197, 0.17015665])"
      ]
     },
     "execution_count": 16,
     "metadata": {},
     "output_type": "execute_result"
    }
   ],
   "source": [
    "from sklearn.model_selection import cross_val_score\n",
    "from sklearn.metrics import make_scorer\n",
    "\n",
    "results = cross_val_score(xgbse_model, X, y, scoring=make_scorer(approx_brier_score))\n",
    "results"
   ]
  },
  {
   "cell_type": "code",
   "execution_count": null,
   "metadata": {},
   "outputs": [],
   "source": []
  }
 ],
 "metadata": {
  "kernelspec": {
   "display_name": "xgbse",
   "language": "python",
   "name": "python3"
  },
  "language_info": {
   "codemirror_mode": {
    "name": "ipython",
    "version": 3
   },
   "file_extension": ".py",
   "mimetype": "text/x-python",
   "name": "python",
   "nbconvert_exporter": "python",
   "pygments_lexer": "ipython3",
   "version": "3.10.6"
  },
  "vscode": {
   "interpreter": {
    "hash": "39cc93797822a151c7ca039c3cb69be71747107fc58c6513c0722cb282afadca"
   }
  }
 },
 "nbformat": 4,
 "nbformat_minor": 4
}
