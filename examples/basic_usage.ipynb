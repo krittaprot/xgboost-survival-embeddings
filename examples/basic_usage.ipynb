{
 "cells": [
  {
   "cell_type": "markdown",
   "metadata": {},
   "source": [
    "# Basic Usage:\n",
    "In this notebook you will find:\n",
    "- How to get a survival curve and neighbors prediction using xgbse\n",
    "- How to validate your xgbse model using sklearn"
   ]
  },
  {
   "cell_type": "markdown",
   "metadata": {},
   "source": [
    "## Metrabic\n",
    "\n",
    "We will be using the Molecular Taxonomy of Breast Cancer International Consortium (METABRIC) dataset from [pycox](https://github.com/havakv/pycox#datasets) as base for this example."
   ]
  },
  {
   "cell_type": "code",
   "execution_count": 2,
   "metadata": {},
   "outputs": [
    {
     "data": {
      "text/html": [
       "<div>\n",
       "<style scoped>\n",
       "    .dataframe tbody tr th:only-of-type {\n",
       "        vertical-align: middle;\n",
       "    }\n",
       "\n",
       "    .dataframe tbody tr th {\n",
       "        vertical-align: top;\n",
       "    }\n",
       "\n",
       "    .dataframe thead th {\n",
       "        text-align: right;\n",
       "    }\n",
       "</style>\n",
       "<table border=\"1\" class=\"dataframe\">\n",
       "  <thead>\n",
       "    <tr style=\"text-align: right;\">\n",
       "      <th></th>\n",
       "      <th>x0</th>\n",
       "      <th>x1</th>\n",
       "      <th>x2</th>\n",
       "      <th>x3</th>\n",
       "      <th>x4</th>\n",
       "      <th>x5</th>\n",
       "      <th>x6</th>\n",
       "      <th>x7</th>\n",
       "      <th>x8</th>\n",
       "      <th>duration</th>\n",
       "      <th>event</th>\n",
       "    </tr>\n",
       "  </thead>\n",
       "  <tbody>\n",
       "    <tr>\n",
       "      <th>0</th>\n",
       "      <td>5.603834</td>\n",
       "      <td>7.811392</td>\n",
       "      <td>10.797988</td>\n",
       "      <td>5.967607</td>\n",
       "      <td>1.0</td>\n",
       "      <td>1.0</td>\n",
       "      <td>0.0</td>\n",
       "      <td>1.0</td>\n",
       "      <td>56.840000</td>\n",
       "      <td>99.333336</td>\n",
       "      <td>0</td>\n",
       "    </tr>\n",
       "    <tr>\n",
       "      <th>1</th>\n",
       "      <td>5.284882</td>\n",
       "      <td>9.581043</td>\n",
       "      <td>10.204620</td>\n",
       "      <td>5.664970</td>\n",
       "      <td>1.0</td>\n",
       "      <td>0.0</td>\n",
       "      <td>0.0</td>\n",
       "      <td>1.0</td>\n",
       "      <td>85.940002</td>\n",
       "      <td>95.733330</td>\n",
       "      <td>1</td>\n",
       "    </tr>\n",
       "    <tr>\n",
       "      <th>2</th>\n",
       "      <td>5.920251</td>\n",
       "      <td>6.776564</td>\n",
       "      <td>12.431715</td>\n",
       "      <td>5.873857</td>\n",
       "      <td>0.0</td>\n",
       "      <td>1.0</td>\n",
       "      <td>0.0</td>\n",
       "      <td>1.0</td>\n",
       "      <td>48.439999</td>\n",
       "      <td>140.233337</td>\n",
       "      <td>0</td>\n",
       "    </tr>\n",
       "    <tr>\n",
       "      <th>3</th>\n",
       "      <td>6.654017</td>\n",
       "      <td>5.341846</td>\n",
       "      <td>8.646379</td>\n",
       "      <td>5.655888</td>\n",
       "      <td>0.0</td>\n",
       "      <td>0.0</td>\n",
       "      <td>0.0</td>\n",
       "      <td>0.0</td>\n",
       "      <td>66.910004</td>\n",
       "      <td>239.300003</td>\n",
       "      <td>0</td>\n",
       "    </tr>\n",
       "    <tr>\n",
       "      <th>4</th>\n",
       "      <td>5.456747</td>\n",
       "      <td>5.339741</td>\n",
       "      <td>10.555724</td>\n",
       "      <td>6.008429</td>\n",
       "      <td>1.0</td>\n",
       "      <td>0.0</td>\n",
       "      <td>0.0</td>\n",
       "      <td>1.0</td>\n",
       "      <td>67.849998</td>\n",
       "      <td>56.933334</td>\n",
       "      <td>1</td>\n",
       "    </tr>\n",
       "  </tbody>\n",
       "</table>\n",
       "</div>"
      ],
      "text/plain": [
       "         x0        x1         x2        x3   x4   x5   x6   x7         x8  \\\n",
       "0  5.603834  7.811392  10.797988  5.967607  1.0  1.0  0.0  1.0  56.840000   \n",
       "1  5.284882  9.581043  10.204620  5.664970  1.0  0.0  0.0  1.0  85.940002   \n",
       "2  5.920251  6.776564  12.431715  5.873857  0.0  1.0  0.0  1.0  48.439999   \n",
       "3  6.654017  5.341846   8.646379  5.655888  0.0  0.0  0.0  0.0  66.910004   \n",
       "4  5.456747  5.339741  10.555724  6.008429  1.0  0.0  0.0  1.0  67.849998   \n",
       "\n",
       "     duration  event  \n",
       "0   99.333336      0  \n",
       "1   95.733330      1  \n",
       "2  140.233337      0  \n",
       "3  239.300003      0  \n",
       "4   56.933334      1  "
      ]
     },
     "execution_count": 2,
     "metadata": {},
     "output_type": "execute_result"
    }
   ],
   "source": [
    "from pycox.datasets import metabric\n",
    "import numpy as np\n",
    "\n",
    "# getting data\n",
    "df = metabric.read_df()\n",
    "\n",
    "df.head()"
   ]
  },
  {
   "cell_type": "markdown",
   "metadata": {},
   "source": [
    "## Split and Time Bins\n",
    "\n",
    "Split the data in train and test, using sklearn API. We also setup the TIME_BINS array, which will be used to fit the survival curve"
   ]
  },
  {
   "cell_type": "code",
   "execution_count": 3,
   "metadata": {},
   "outputs": [
    {
     "data": {
      "text/plain": [
       "array([ 15,  30,  45,  60,  75,  90, 105, 120, 135, 150, 165, 180, 195,\n",
       "       210, 225, 240, 255, 270, 285, 300])"
      ]
     },
     "execution_count": 3,
     "metadata": {},
     "output_type": "execute_result"
    }
   ],
   "source": [
    "from xgbse.converters import convert_to_structured\n",
    "from sklearn.model_selection import train_test_split\n",
    "\n",
    "# splitting to X, T, E format\n",
    "X = df.drop([\"duration\", \"event\"], axis=1)\n",
    "T = df[\"duration\"]\n",
    "E = df[\"event\"]\n",
    "y = convert_to_structured(T, E)\n",
    "\n",
    "# splitting between train, and validation\n",
    "X_train, X_test, y_train, y_test = train_test_split(\n",
    "    X, y, test_size=1 / 3, random_state=0\n",
    ")\n",
    "TIME_BINS = np.arange(15, 315, 15)\n",
    "TIME_BINS"
   ]
  },
  {
   "cell_type": "markdown",
   "metadata": {},
   "source": [
    "## Fit and Predict\n",
    "\n",
    "We will be using the DebiasedBCE estimator to fit the model and predict a survival curve for each point in our test data"
   ]
  },
  {
   "cell_type": "code",
   "execution_count": 4,
   "metadata": {},
   "outputs": [
    {
     "name": "stdout",
     "output_type": "stream",
     "text": [
      "(635, 20)\n"
     ]
    },
    {
     "data": {
      "text/html": [
       "<div>\n",
       "<style scoped>\n",
       "    .dataframe tbody tr th:only-of-type {\n",
       "        vertical-align: middle;\n",
       "    }\n",
       "\n",
       "    .dataframe tbody tr th {\n",
       "        vertical-align: top;\n",
       "    }\n",
       "\n",
       "    .dataframe thead th {\n",
       "        text-align: right;\n",
       "    }\n",
       "</style>\n",
       "<table border=\"1\" class=\"dataframe\">\n",
       "  <thead>\n",
       "    <tr style=\"text-align: right;\">\n",
       "      <th></th>\n",
       "      <th>15</th>\n",
       "      <th>30</th>\n",
       "      <th>45</th>\n",
       "      <th>60</th>\n",
       "      <th>75</th>\n",
       "      <th>90</th>\n",
       "      <th>105</th>\n",
       "      <th>120</th>\n",
       "      <th>135</th>\n",
       "      <th>150</th>\n",
       "      <th>165</th>\n",
       "      <th>180</th>\n",
       "      <th>195</th>\n",
       "      <th>210</th>\n",
       "      <th>225</th>\n",
       "      <th>240</th>\n",
       "      <th>255</th>\n",
       "      <th>270</th>\n",
       "      <th>285</th>\n",
       "      <th>300</th>\n",
       "    </tr>\n",
       "  </thead>\n",
       "  <tbody>\n",
       "    <tr>\n",
       "      <th>0</th>\n",
       "      <td>0.998988</td>\n",
       "      <td>0.995247</td>\n",
       "      <td>0.995218</td>\n",
       "      <td>0.994451</td>\n",
       "      <td>0.987990</td>\n",
       "      <td>0.979109</td>\n",
       "      <td>0.952899</td>\n",
       "      <td>0.952792</td>\n",
       "      <td>0.952138</td>\n",
       "      <td>0.952008</td>\n",
       "      <td>0.949860</td>\n",
       "      <td>0.892675</td>\n",
       "      <td>0.892507</td>\n",
       "      <td>0.840764</td>\n",
       "      <td>0.839172</td>\n",
       "      <td>0.734439</td>\n",
       "      <td>0.732219</td>\n",
       "      <td>0.726821</td>\n",
       "      <td>0.706943</td>\n",
       "      <td>0.699701</td>\n",
       "    </tr>\n",
       "    <tr>\n",
       "      <th>1</th>\n",
       "      <td>0.997263</td>\n",
       "      <td>0.944872</td>\n",
       "      <td>0.884912</td>\n",
       "      <td>0.674364</td>\n",
       "      <td>0.627228</td>\n",
       "      <td>0.566086</td>\n",
       "      <td>0.563968</td>\n",
       "      <td>0.047420</td>\n",
       "      <td>0.037309</td>\n",
       "      <td>0.037270</td>\n",
       "      <td>0.025956</td>\n",
       "      <td>0.011737</td>\n",
       "      <td>0.009772</td>\n",
       "      <td>0.008017</td>\n",
       "      <td>0.005553</td>\n",
       "      <td>0.003752</td>\n",
       "      <td>0.003745</td>\n",
       "      <td>0.001268</td>\n",
       "      <td>0.001236</td>\n",
       "      <td>0.001145</td>\n",
       "    </tr>\n",
       "    <tr>\n",
       "      <th>2</th>\n",
       "      <td>0.999541</td>\n",
       "      <td>0.999370</td>\n",
       "      <td>0.987968</td>\n",
       "      <td>0.987107</td>\n",
       "      <td>0.985423</td>\n",
       "      <td>0.983347</td>\n",
       "      <td>0.982598</td>\n",
       "      <td>0.976641</td>\n",
       "      <td>0.585108</td>\n",
       "      <td>0.558605</td>\n",
       "      <td>0.556056</td>\n",
       "      <td>0.552926</td>\n",
       "      <td>0.552171</td>\n",
       "      <td>0.546073</td>\n",
       "      <td>0.544894</td>\n",
       "      <td>0.510758</td>\n",
       "      <td>0.507372</td>\n",
       "      <td>0.481343</td>\n",
       "      <td>0.477759</td>\n",
       "      <td>0.412741</td>\n",
       "    </tr>\n",
       "    <tr>\n",
       "      <th>3</th>\n",
       "      <td>0.999970</td>\n",
       "      <td>0.999574</td>\n",
       "      <td>0.994848</td>\n",
       "      <td>0.989543</td>\n",
       "      <td>0.988840</td>\n",
       "      <td>0.988055</td>\n",
       "      <td>0.945365</td>\n",
       "      <td>0.944882</td>\n",
       "      <td>0.943819</td>\n",
       "      <td>0.939869</td>\n",
       "      <td>0.902530</td>\n",
       "      <td>0.845673</td>\n",
       "      <td>0.840188</td>\n",
       "      <td>0.838689</td>\n",
       "      <td>0.741230</td>\n",
       "      <td>0.724027</td>\n",
       "      <td>0.319774</td>\n",
       "      <td>0.317151</td>\n",
       "      <td>0.310076</td>\n",
       "      <td>0.299381</td>\n",
       "    </tr>\n",
       "    <tr>\n",
       "      <th>4</th>\n",
       "      <td>0.999423</td>\n",
       "      <td>0.999323</td>\n",
       "      <td>0.999034</td>\n",
       "      <td>0.996811</td>\n",
       "      <td>0.995542</td>\n",
       "      <td>0.731873</td>\n",
       "      <td>0.726610</td>\n",
       "      <td>0.725408</td>\n",
       "      <td>0.724736</td>\n",
       "      <td>0.717344</td>\n",
       "      <td>0.705641</td>\n",
       "      <td>0.705216</td>\n",
       "      <td>0.704165</td>\n",
       "      <td>0.696827</td>\n",
       "      <td>0.251091</td>\n",
       "      <td>0.244328</td>\n",
       "      <td>0.240177</td>\n",
       "      <td>0.208212</td>\n",
       "      <td>0.162117</td>\n",
       "      <td>0.087804</td>\n",
       "    </tr>\n",
       "  </tbody>\n",
       "</table>\n",
       "</div>"
      ],
      "text/plain": [
       "        15        30        45        60        75        90        105  \\\n",
       "0  0.998988  0.995247  0.995218  0.994451  0.987990  0.979109  0.952899   \n",
       "1  0.997263  0.944872  0.884912  0.674364  0.627228  0.566086  0.563968   \n",
       "2  0.999541  0.999370  0.987968  0.987107  0.985423  0.983347  0.982598   \n",
       "3  0.999970  0.999574  0.994848  0.989543  0.988840  0.988055  0.945365   \n",
       "4  0.999423  0.999323  0.999034  0.996811  0.995542  0.731873  0.726610   \n",
       "\n",
       "        120       135       150       165       180       195       210  \\\n",
       "0  0.952792  0.952138  0.952008  0.949860  0.892675  0.892507  0.840764   \n",
       "1  0.047420  0.037309  0.037270  0.025956  0.011737  0.009772  0.008017   \n",
       "2  0.976641  0.585108  0.558605  0.556056  0.552926  0.552171  0.546073   \n",
       "3  0.944882  0.943819  0.939869  0.902530  0.845673  0.840188  0.838689   \n",
       "4  0.725408  0.724736  0.717344  0.705641  0.705216  0.704165  0.696827   \n",
       "\n",
       "        225       240       255       270       285       300  \n",
       "0  0.839172  0.734439  0.732219  0.726821  0.706943  0.699701  \n",
       "1  0.005553  0.003752  0.003745  0.001268  0.001236  0.001145  \n",
       "2  0.544894  0.510758  0.507372  0.481343  0.477759  0.412741  \n",
       "3  0.741230  0.724027  0.319774  0.317151  0.310076  0.299381  \n",
       "4  0.251091  0.244328  0.240177  0.208212  0.162117  0.087804  "
      ]
     },
     "execution_count": 4,
     "metadata": {},
     "output_type": "execute_result"
    }
   ],
   "source": [
    "from xgbse import XGBSEDebiasedBCE\n",
    "\n",
    "# fitting xgbse model\n",
    "xgbse_model = XGBSEDebiasedBCE(lr_params={\"max_iter\": 1500})\n",
    "xgbse_model.fit(X_train, y_train, time_bins=TIME_BINS, num_boost_round=1000)\n",
    "\n",
    "# predicting\n",
    "y_pred = xgbse_model.predict(X_test)\n",
    "\n",
    "print(y_pred.shape)\n",
    "y_pred.head()"
   ]
  },
  {
   "cell_type": "markdown",
   "metadata": {},
   "source": [
    "mean predicted survival curve for test data"
   ]
  },
  {
   "cell_type": "code",
   "execution_count": 5,
   "metadata": {},
   "outputs": [
    {
     "data": {
      "image/png": "[encoded data removed]",
      "text/plain": [
       "<Figure size 640x480 with 1 Axes>"
      ]
     },
     "metadata": {},
     "output_type": "display_data"
    }
   ],
   "source": [
    "y_pred.mean().plot.line();"
   ]
  },
  {
   "cell_type": "markdown",
   "metadata": {},
   "source": [
    "## Neighbors\n",
    "\n",
    "We can also use our model for querying comparables based on survivability."
   ]
  },
  {
   "cell_type": "code",
   "execution_count": 6,
   "metadata": {},
   "outputs": [
    {
     "name": "stdout",
     "output_type": "stream",
     "text": [
      "(635, 5)\n"
     ]
    },
    {
     "data": {
      "text/html": [
       "<div>\n",
       "<style scoped>\n",
       "    .dataframe tbody tr th:only-of-type {\n",
       "        vertical-align: middle;\n",
       "    }\n",
       "\n",
       "    .dataframe tbody tr th {\n",
       "        vertical-align: top;\n",
       "    }\n",
       "\n",
       "    .dataframe thead th {\n",
       "        text-align: right;\n",
       "    }\n",
       "</style>\n",
       "<table border=\"1\" class=\"dataframe\">\n",
       "  <thead>\n",
       "    <tr style=\"text-align: right;\">\n",
       "      <th></th>\n",
       "      <th>neighbor_1</th>\n",
       "      <th>neighbor_2</th>\n",
       "      <th>neighbor_3</th>\n",
       "      <th>neighbor_4</th>\n",
       "      <th>neighbor_5</th>\n",
       "    </tr>\n",
       "  </thead>\n",
       "  <tbody>\n",
       "    <tr>\n",
       "      <th>829</th>\n",
       "      <td>69</td>\n",
       "      <td>339</td>\n",
       "      <td>738</td>\n",
       "      <td>418</td>\n",
       "      <td>1589</td>\n",
       "    </tr>\n",
       "    <tr>\n",
       "      <th>670</th>\n",
       "      <td>1846</td>\n",
       "      <td>1082</td>\n",
       "      <td>1022</td>\n",
       "      <td>864</td>\n",
       "      <td>1358</td>\n",
       "    </tr>\n",
       "    <tr>\n",
       "      <th>1064</th>\n",
       "      <td>1252</td>\n",
       "      <td>739</td>\n",
       "      <td>416</td>\n",
       "      <td>1207</td>\n",
       "      <td>387</td>\n",
       "    </tr>\n",
       "    <tr>\n",
       "      <th>85</th>\n",
       "      <td>8</td>\n",
       "      <td>234</td>\n",
       "      <td>1522</td>\n",
       "      <td>1080</td>\n",
       "      <td>703</td>\n",
       "    </tr>\n",
       "    <tr>\n",
       "      <th>1814</th>\n",
       "      <td>105</td>\n",
       "      <td>1743</td>\n",
       "      <td>1168</td>\n",
       "      <td>1143</td>\n",
       "      <td>941</td>\n",
       "    </tr>\n",
       "  </tbody>\n",
       "</table>\n",
       "</div>"
      ],
      "text/plain": [
       "      neighbor_1  neighbor_2  neighbor_3  neighbor_4  neighbor_5\n",
       "829           69         339         738         418        1589\n",
       "670         1846        1082        1022         864        1358\n",
       "1064        1252         739         416        1207         387\n",
       "85             8         234        1522        1080         703\n",
       "1814         105        1743        1168        1143         941"
      ]
     },
     "execution_count": 6,
     "metadata": {},
     "output_type": "execute_result"
    }
   ],
   "source": [
    "neighbors = xgbse_model.get_neighbors(\n",
    "    query_data=X_test, index_data=X_train, n_neighbors=5\n",
    ")\n",
    "\n",
    "print(neighbors.shape)\n",
    "neighbors.head(5)"
   ]
  },
  {
   "cell_type": "markdown",
   "metadata": {},
   "source": [
    "<b>example</b>: selecting a data point from query data (X_test) and checking its features"
   ]
  },
  {
   "cell_type": "code",
   "execution_count": 7,
   "metadata": {},
   "outputs": [
    {
     "data": {
      "text/html": [
       "<div>\n",
       "<style scoped>\n",
       "    .dataframe tbody tr th:only-of-type {\n",
       "        vertical-align: middle;\n",
       "    }\n",
       "\n",
       "    .dataframe tbody tr th {\n",
       "        vertical-align: top;\n",
       "    }\n",
       "\n",
       "    .dataframe thead th {\n",
       "        text-align: right;\n",
       "    }\n",
       "</style>\n",
       "<table border=\"1\" class=\"dataframe\">\n",
       "  <thead>\n",
       "    <tr style=\"text-align: right;\">\n",
       "      <th></th>\n",
       "      <th>x0</th>\n",
       "      <th>x1</th>\n",
       "      <th>x2</th>\n",
       "      <th>x3</th>\n",
       "      <th>x4</th>\n",
       "      <th>x5</th>\n",
       "      <th>x6</th>\n",
       "      <th>x7</th>\n",
       "      <th>x8</th>\n",
       "    </tr>\n",
       "  </thead>\n",
       "  <tbody>\n",
       "    <tr>\n",
       "      <th>399</th>\n",
       "      <td>5.572504</td>\n",
       "      <td>7.367552</td>\n",
       "      <td>11.023443</td>\n",
       "      <td>5.406307</td>\n",
       "      <td>1.0</td>\n",
       "      <td>0.0</td>\n",
       "      <td>0.0</td>\n",
       "      <td>1.0</td>\n",
       "      <td>67.620003</td>\n",
       "    </tr>\n",
       "  </tbody>\n",
       "</table>\n",
       "</div>"
      ],
      "text/plain": [
       "           x0        x1         x2        x3   x4   x5   x6   x7         x8\n",
       "399  5.572504  7.367552  11.023443  5.406307  1.0  0.0  0.0  1.0  67.620003"
      ]
     },
     "execution_count": 7,
     "metadata": {},
     "output_type": "execute_result"
    }
   ],
   "source": [
    "desired = neighbors.iloc[10]\n",
    "\n",
    "X_test.loc[X_test.index == desired.name]"
   ]
  },
  {
   "cell_type": "markdown",
   "metadata": {},
   "source": [
    "... and finding its comparables from index data (X_train)"
   ]
  },
  {
   "cell_type": "code",
   "execution_count": 8,
   "metadata": {},
   "outputs": [
    {
     "data": {
      "text/html": [
       "<div>\n",
       "<style scoped>\n",
       "    .dataframe tbody tr th:only-of-type {\n",
       "        vertical-align: middle;\n",
       "    }\n",
       "\n",
       "    .dataframe tbody tr th {\n",
       "        vertical-align: top;\n",
       "    }\n",
       "\n",
       "    .dataframe thead th {\n",
       "        text-align: right;\n",
       "    }\n",
       "</style>\n",
       "<table border=\"1\" class=\"dataframe\">\n",
       "  <thead>\n",
       "    <tr style=\"text-align: right;\">\n",
       "      <th></th>\n",
       "      <th>x0</th>\n",
       "      <th>x1</th>\n",
       "      <th>x2</th>\n",
       "      <th>x3</th>\n",
       "      <th>x4</th>\n",
       "      <th>x5</th>\n",
       "      <th>x6</th>\n",
       "      <th>x7</th>\n",
       "      <th>x8</th>\n",
       "    </tr>\n",
       "  </thead>\n",
       "  <tbody>\n",
       "    <tr>\n",
       "      <th>1522</th>\n",
       "      <td>5.787038</td>\n",
       "      <td>6.713382</td>\n",
       "      <td>11.090166</td>\n",
       "      <td>5.551950</td>\n",
       "      <td>0.0</td>\n",
       "      <td>0.0</td>\n",
       "      <td>0.0</td>\n",
       "      <td>1.0</td>\n",
       "      <td>68.250000</td>\n",
       "    </tr>\n",
       "    <tr>\n",
       "      <th>703</th>\n",
       "      <td>5.823333</td>\n",
       "      <td>7.185800</td>\n",
       "      <td>10.898102</td>\n",
       "      <td>5.538811</td>\n",
       "      <td>0.0</td>\n",
       "      <td>0.0</td>\n",
       "      <td>0.0</td>\n",
       "      <td>1.0</td>\n",
       "      <td>66.540001</td>\n",
       "    </tr>\n",
       "    <tr>\n",
       "      <th>968</th>\n",
       "      <td>5.541239</td>\n",
       "      <td>7.058089</td>\n",
       "      <td>10.463409</td>\n",
       "      <td>5.396433</td>\n",
       "      <td>1.0</td>\n",
       "      <td>0.0</td>\n",
       "      <td>0.0</td>\n",
       "      <td>1.0</td>\n",
       "      <td>71.070000</td>\n",
       "    </tr>\n",
       "    <tr>\n",
       "      <th>1640</th>\n",
       "      <td>5.812605</td>\n",
       "      <td>7.646811</td>\n",
       "      <td>10.952687</td>\n",
       "      <td>5.516386</td>\n",
       "      <td>1.0</td>\n",
       "      <td>1.0</td>\n",
       "      <td>0.0</td>\n",
       "      <td>1.0</td>\n",
       "      <td>68.559998</td>\n",
       "    </tr>\n",
       "    <tr>\n",
       "      <th>234</th>\n",
       "      <td>5.784350</td>\n",
       "      <td>6.797296</td>\n",
       "      <td>11.025448</td>\n",
       "      <td>5.335426</td>\n",
       "      <td>1.0</td>\n",
       "      <td>1.0</td>\n",
       "      <td>0.0</td>\n",
       "      <td>1.0</td>\n",
       "      <td>68.489998</td>\n",
       "    </tr>\n",
       "  </tbody>\n",
       "</table>\n",
       "</div>"
      ],
      "text/plain": [
       "            x0        x1         x2        x3   x4   x5   x6   x7         x8\n",
       "1522  5.787038  6.713382  11.090166  5.551950  0.0  0.0  0.0  1.0  68.250000\n",
       "703   5.823333  7.185800  10.898102  5.538811  0.0  0.0  0.0  1.0  66.540001\n",
       "968   5.541239  7.058089  10.463409  5.396433  1.0  0.0  0.0  1.0  71.070000\n",
       "1640  5.812605  7.646811  10.952687  5.516386  1.0  1.0  0.0  1.0  68.559998\n",
       "234   5.784350  6.797296  11.025448  5.335426  1.0  1.0  0.0  1.0  68.489998"
      ]
     },
     "execution_count": 8,
     "metadata": {},
     "output_type": "execute_result"
    }
   ],
   "source": [
    "X_train.loc[X_train.index.isin(desired.tolist())]"
   ]
  },
  {
   "cell_type": "markdown",
   "metadata": {},
   "source": [
    "## Score metrics\n",
    "\n",
    "XGBSE implements concordance index and integrated brier score, both can be used to evaluate model performance"
   ]
  },
  {
   "cell_type": "code",
   "execution_count": 9,
   "metadata": {},
   "outputs": [
    {
     "name": "stdout",
     "output_type": "stream",
     "text": [
      "C-index: 0.6363746361184065\n",
      "Avg. Brier Score: 0.26053716418501854\n"
     ]
    },
    {
     "name": "stderr",
     "output_type": "stream",
     "text": [
      "/Users/11488715/Desktop/xgboost-survival-embeddings/xgbse/non_parametric.py:61: FutureWarning: DataFrame.fillna with 'method' is deprecated and will raise in a future version. Use obj.ffill() or obj.bfill() instead.\n",
      "  return pd.DataFrame(C_exp).fillna(method=\"bfill\").fillna(method=\"ffill\").values\n"
     ]
    }
   ],
   "source": [
    "# importing metrics\n",
    "from xgbse.metrics import concordance_index, approx_brier_score\n",
    "\n",
    "# running metrics\n",
    "print(f\"C-index: {concordance_index(y_test, y_pred)}\")\n",
    "print(f\"Avg. Brier Score: {approx_brier_score(y_test, y_pred)}\")"
   ]
  },
  {
   "cell_type": "markdown",
   "metadata": {},
   "source": [
    "## Cross Validation\n",
    "\n",
    "We can also use sklearn's cross_val_score and make_scorer to cross validate our model"
   ]
  },
  {
   "cell_type": "code",
   "execution_count": 10,
   "metadata": {},
   "outputs": [
    {
     "name": "stderr",
     "output_type": "stream",
     "text": [
      "/Users/11488715/Desktop/xgboost-survival-embeddings/xgbse/non_parametric.py:61: FutureWarning: DataFrame.fillna with 'method' is deprecated and will raise in a future version. Use obj.ffill() or obj.bfill() instead.\n",
      "  return pd.DataFrame(C_exp).fillna(method=\"bfill\").fillna(method=\"ffill\").values\n",
      "/Users/11488715/Desktop/xgboost-survival-embeddings/xgbse/non_parametric.py:61: FutureWarning: DataFrame.fillna with 'method' is deprecated and will raise in a future version. Use obj.ffill() or obj.bfill() instead.\n",
      "  return pd.DataFrame(C_exp).fillna(method=\"bfill\").fillna(method=\"ffill\").values\n",
      "/Users/11488715/Desktop/xgboost-survival-embeddings/xgbse/non_parametric.py:61: FutureWarning: DataFrame.fillna with 'method' is deprecated and will raise in a future version. Use obj.ffill() or obj.bfill() instead.\n",
      "  return pd.DataFrame(C_exp).fillna(method=\"bfill\").fillna(method=\"ffill\").values\n",
      "/Users/11488715/Desktop/xgboost-survival-embeddings/xgbse/non_parametric.py:61: FutureWarning: DataFrame.fillna with 'method' is deprecated and will raise in a future version. Use obj.ffill() or obj.bfill() instead.\n",
      "  return pd.DataFrame(C_exp).fillna(method=\"bfill\").fillna(method=\"ffill\").values\n",
      "/Users/11488715/Desktop/xgboost-survival-embeddings/xgbse/_debiased_bce.py:222: RuntimeWarning: Warning: Only one class found in a time bucket\n",
      "  warnings.warn(\n",
      "/Users/11488715/Desktop/xgboost-survival-embeddings/xgbse/non_parametric.py:61: FutureWarning: DataFrame.fillna with 'method' is deprecated and will raise in a future version. Use obj.ffill() or obj.bfill() instead.\n",
      "  return pd.DataFrame(C_exp).fillna(method=\"bfill\").fillna(method=\"ffill\").values\n"
     ]
    },
    {
     "data": {
      "text/plain": [
       "array([0.17283962, 0.16673024, 0.13781023, 0.1772899 , 0.18112062])"
      ]
     },
     "execution_count": 10,
     "metadata": {},
     "output_type": "execute_result"
    }
   ],
   "source": [
    "from sklearn.model_selection import cross_val_score\n",
    "from sklearn.metrics import make_scorer\n",
    "\n",
    "results = cross_val_score(xgbse_model, X, y, scoring=make_scorer(approx_brier_score))\n",
    "results"
   ]
  },
  {
   "cell_type": "code",
   "execution_count": null,
   "metadata": {},
   "outputs": [],
   "source": []
  }
 ],
 "metadata": {
  "kernelspec": {
   "display_name": "xgbse",
   "language": "python",
   "name": "python3"
  },
  "language_info": {
   "codemirror_mode": {
    "name": "ipython",
    "version": 3
   },
   "file_extension": ".py",
   "mimetype": "text/x-python",
   "name": "python",
   "nbconvert_exporter": "python",
   "pygments_lexer": "ipython3",
   "version": "3.12.4"
  },
  "vscode": {
   "interpreter": {
    "hash": "39cc93797822a151c7ca039c3cb69be71747107fc58c6513c0722cb282afadca"
   }
  }
 },
 "nbformat": 4,
 "nbformat_minor": 4
}
